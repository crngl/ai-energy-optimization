{
 "cells": [
  {
   "cell_type": "code",
   "execution_count": null,
   "id": "53716a52-ef27-4c8a-940f-d0c587ddfadf",
   "metadata": {},
   "outputs": [],
   "source": [
    "import pandas as pd\n",
    "from sklearn.ensemble import RandomForestRegressor\n",
    "from sklearn.model_selection import train_test_split\n",
    "import joblib\n",
    "import os\n",
    "\n",
    "# Örnek veriler\n",
    "df = pd.DataFrame({\n",
    "    \"Ortalama_Sicaklik_C\": [22, 25, 27],\n",
    "    \"Sicaklik_Farki_C\": [4, 5, 6],\n",
    "    \"Hammadde_Sicakligi_C\": [28, 30, 32],\n",
    "    \"Hava_Sicakligi_C\": [19, 20, 21],\n",
    "    \"Uretim_Miktari_adet\": [900, 1000, 1100],\n",
    "    \"Enerji_Tuketimi\": [500, 550, 600]\n",
    "})\n",
    "\n",
    "X = df.drop(\"Enerji_Tuketimi\", axis=1)\n",
    "y = df[\"Enerji_Tuketimi\"]\n",
    "\n",
    "model = RandomForestRegressor()\n",
    "model.fit(X, y)\n",
    "\n",
    "output_path = \"../results/best_model.pkl\"\n",
    "os.makedirs(os.path.dirname(output_path), exist_ok=True)\n",
    "joblib.dump(model, output_path)\n",
    "\n",
    "print(f\"✅ Model başarıyla kaydedildi: {output_path}\")\n"
   ]
  }
 ],
 "metadata": {
  "kernelspec": {
   "display_name": "Python 3 (ipykernel)",
   "language": "python",
   "name": "python3"
  },
  "language_info": {
   "codemirror_mode": {
    "name": "ipython",
    "version": 3
   },
   "file_extension": ".py",
   "mimetype": "text/x-python",
   "name": "python",
   "nbconvert_exporter": "python",
   "pygments_lexer": "ipython3",
   "version": "3.10.6"
  }
 },
 "nbformat": 4,
 "nbformat_minor": 5
}
