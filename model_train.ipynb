{
 "cells": [
  {
   "cell_type": "code",
   "execution_count": 5,
   "id": "30f6d381-0e99-407e-a21e-ced2fe9736d9",
   "metadata": {},
   "outputs": [
    {
     "data": {
      "text/plain": [
       "['results/best_model.pkl']"
      ]
     },
     "execution_count": 5,
     "metadata": {},
     "output_type": "execute_result"
    }
   ],
   "source": [
    "\n",
    "import pandas as pd\n",
    "from sklearn.ensemble import RandomForestRegressor\n",
    "from sklearn.model_selection import train_test_split\n",
    "import joblib\n",
    "\n",
    "# CSV dosyasını oku (adını doğru yaz)\n",
    "df = pd.read_csv(\"data/enerji_optimizasyon_veri_seti.csv\")\n",
    "\n",
    "\n",
    "# Özellikler ve hedefi ayır\n",
    "X = df.drop([\"Tarih\", \"Saat\", \"Enerji_Tüketimi_kWh\"], axis=1)\n",
    "y = df[\"Enerji_Tüketimi_kWh\"]\n",
    "\n",
    "# Eğitim ve test verilerine ayır\n",
    "X_train, X_test, y_train, y_test = train_test_split(X, y, test_size=0.2, random_state=42)\n",
    "\n",
    "# Modeli oluştur ve eğit\n",
    "model = RandomForestRegressor()\n",
    "model.fit(X_train, y_train)\n",
    "\n",
    "# Eğitilen modeli kaydet\n",
    "joblib.dump(model, \"results/best_model.pkl\")\n"
   ]
  },
  {
   "cell_type": "code",
   "execution_count": null,
   "id": "3897afce-1cef-4cc8-ac04-96a150c2170c",
   "metadata": {},
   "outputs": [],
   "source": []
  }
 ],
 "metadata": {
  "kernelspec": {
   "display_name": "Python 3 (ipykernel)",
   "language": "python",
   "name": "python3"
  },
  "language_info": {
   "codemirror_mode": {
    "name": "ipython",
    "version": 3
   },
   "file_extension": ".py",
   "mimetype": "text/x-python",
   "name": "python",
   "nbconvert_exporter": "python",
   "pygments_lexer": "ipython3",
   "version": "3.10.6"
  }
 },
 "nbformat": 4,
 "nbformat_minor": 5
}
